{
 "cells": [
  {
   "cell_type": "markdown",
   "metadata": {},
   "source": [
    "## Parallel Programming with Python\n",
    "Angel David Sansores Cruz\\\n",
    "Universidad Politécnica de Yucatán\\\n",
    "2109139@upy.edu.mx"
   ]
  },
  {
   "cell_type": "markdown",
   "metadata": {},
   "source": [
    "![Instructions](instructions.png)\n"
   ]
  },
  {
   "cell_type": "markdown",
   "metadata": {},
   "source": [
    "## 1. Write a program in Pytho nwhich solves the program without any parallelization."
   ]
  },
  {
   "cell_type": "markdown",
   "metadata": {},
   "source": [
    "## Non-parallel Computation of π\n",
    "\n",
    "This section demonstrates how to compute an approximation of π using a non-parallel method. We'll calculate the area under the curve of a quarter circle using the Riemann sum approach. The computation is done sequentially in a single process. Here's a breakdown of the steps:\n",
    "\n",
    "1. Calculate the width of each interval (`dx`).\n",
    "2. Compute the sum of the areas of rectangles under the curve using the formula `sqrt(1 - x^2)`.\n",
    "3. Multiply the total by 4 to estimate π.\n",
    "\n",
    "We'll also measure the time taken to perform this calculation to compare it with parallel methods.\n"
   ]
  },
  {
   "cell_type": "code",
   "execution_count": 1,
   "metadata": {},
   "outputs": [],
   "source": [
    "import numpy as np\n",
    "import time"
   ]
  },
  {
   "cell_type": "code",
   "execution_count": 2,
   "metadata": {},
   "outputs": [
    {
     "name": "stdout",
     "output_type": "stream",
     "text": [
      "Sequential π approximation: 3.141594652413976\n",
      "Time taken: 1.2785 seconds\n"
     ]
    }
   ],
   "source": [
    "def compute_pi_sequential(N):\n",
    "    dx = 1.0 / N\n",
    "    total = sum(np.sqrt(1 - (i * dx) ** 2) for i in range(N))\n",
    "    return 4 * total * dx\n",
    "\n",
    "N = 1000000\n",
    "start_time = time.time()  # Start timing\n",
    "pi_approx_sequential = compute_pi_sequential(N)\n",
    "end_time = time.time()  # End timing\n",
    "\n",
    "print(f\"Sequential π approximation: {pi_approx_sequential}\")\n",
    "print(f\"Time taken: {end_time - start_time:.4f} seconds\")\n",
    "\n"
   ]
  },
  {
   "cell_type": "markdown",
   "metadata": {},
   "source": [
    "## 2. Write a program in Python which usesparallel computing via multiprocessingto solve the problem."
   ]
  },
  {
   "cell_type": "markdown",
   "metadata": {},
   "source": [
    "## Parallel Computation of π using Multiprocessing\n",
    "\n",
    "In this section, we use Python's `multiprocessing` library to parallelize the computation of π. This method splits the task across multiple processes, which can run on separate cores:\n",
    "\n",
    "1. We define a function `f` that computes the area for a given interval.\n",
    "2. We use a pool of worker processes to compute these areas in parallel.\n",
    "3. We aggregate the results from all processes to compute the final approximation of π.\n",
    "\n",
    "The function `test_different_Ns` tests the performance for different values of N and prints the results, including the time taken for each computation.\n"
   ]
  },
  {
   "cell_type": "code",
   "execution_count": 3,
   "metadata": {},
   "outputs": [],
   "source": [
    "from multiprocessing import Pool\n",
    "import numpy as np\n",
    "import time"
   ]
  },
  {
   "cell_type": "code",
   "execution_count": 4,
   "metadata": {},
   "outputs": [],
   "source": [
    "def f(i, dx):\n",
    "    x = i * dx\n",
    "    return np.sqrt(1 - x**2) * dx\n",
    "\n",
    "def compute_pi_multiprocessing(N, num_processes):\n",
    "    dx = 1.0 / N\n",
    "    with Pool(num_processes) as pool:\n",
    "        result = pool.starmap(f, [(i, dx) for i in range(N)])\n",
    "    return 4 * sum(result)\n",
    "\n",
    "def test_different_Ns():\n",
    "    test_values = [10000, 100000, 1000000]  # Example values for N\n",
    "    num_processes = 4  # Example number of processes\n",
    "    results = []\n",
    "    \n",
    "    for N in test_values:\n",
    "        start_time = time.time()\n",
    "        pi_approx = compute_pi_multiprocessing(N, num_processes)\n",
    "        end_time = time.time()\n",
    "        \n",
    "        execution_time = end_time - start_time\n",
    "        results.append((N, pi_approx, execution_time))\n",
    "        \n",
    "        print(f\"N = {N}: Multiprocessing π approximation = {pi_approx:.6f}, Time taken = {execution_time:.2f} seconds\")\n",
    "\n",
    "    return results"
   ]
  },
  {
   "cell_type": "code",
   "execution_count": null,
   "metadata": {},
   "outputs": [],
   "source": [
    "# Execute the test function\n",
    "if __name__ == '__main__':\n",
    "    test_results = test_different_Ns()"
   ]
  },
  {
   "cell_type": "markdown",
   "metadata": {},
   "source": [
    "## 3. Write a program in Python which uses distributed parallel computing via mi4pyto solve the problem."
   ]
  },
  {
   "cell_type": "markdown",
   "metadata": {},
   "source": [
    "## Distributed Parallel Computation of π using MPI\n",
    "\n",
    "For distributed parallel computing, we utilize `mpi4py`, a Python wrapper for the MPI interface. This approach is suitable for running on clusters or multi-core systems in a distributed manner:\n",
    "\n",
    "1. Each process computes a portion of the π approximation independently.\n",
    "2. We utilize `np.linspace` to calculate the x-values that each process should handle.\n",
    "3. Local results are aggregated using the MPI `reduce` method to compute the global sum, which is then used to estimate π.\n",
    "\n",
    "Timing is performed individually in each process, but only the root process (rank 0) outputs the final time and result.\n"
   ]
  },
  {
   "cell_type": "code",
   "execution_count": 1,
   "metadata": {},
   "outputs": [
    {
     "name": "stdout",
     "output_type": "stream",
     "text": [
      "Requirement already satisfied: mpi4py in c:\\users\\angel\\appdata\\local\\packages\\pythonsoftwarefoundation.python.3.10_qbz5n2kfra8p0\\localcache\\local-packages\\python310\\site-packages (3.1.6)\n"
     ]
    }
   ],
   "source": [
    "!pip install mpi4py"
   ]
  },
  {
   "cell_type": "code",
   "execution_count": 2,
   "metadata": {},
   "outputs": [],
   "source": [
    "from mpi4py import MPI\n",
    "import numpy as np\n",
    "import time"
   ]
  },
  {
   "cell_type": "code",
   "execution_count": 3,
   "metadata": {},
   "outputs": [
    {
     "name": "stdout",
     "output_type": "stream",
     "text": [
      "Pi with MPI: 3.141592844031421\n",
      "Time taken (root process): 0.2581 seconds\n"
     ]
    }
   ],
   "source": [
    "def compute_pi(N):\n",
    "    # Initialize MPI environment\n",
    "    comm = MPI.COMM_WORLD\n",
    "    rank = comm.Get_rank()\n",
    "    size = comm.Get_size()\n",
    "\n",
    "    # Compute number of intervals handled by each process\n",
    "    local_n = N // size + (rank < N % size)\n",
    "    start = rank * local_n\n",
    "    end = start + local_n\n",
    "\n",
    "    start_time = time.time()  # Start timing on each process\n",
    "\n",
    "    # Calculate local integral\n",
    "    x = np.linspace(start/N, end/N, local_n, endpoint=False)\n",
    "    local_sum = np.sum(np.sqrt(1 - x**2)) * (1.0 / N)\n",
    "\n",
    "    # Gather all local integrals to the root process\n",
    "    pi_approx = 4 * comm.reduce(local_sum, op=MPI.SUM, root=0)\n",
    "\n",
    "    end_time = time.time()  # End timing on each process\n",
    "\n",
    "    # Root process prints the result\n",
    "    if rank == 0:\n",
    "        print(\"Pi with MPI:\", pi_approx)\n",
    "        print(f\"Time taken (root process): {end_time - start_time:.4f} seconds\")\n",
    "\n",
    "if __name__ == \"__main__\":\n",
    "    N = 10_500_000\n",
    "    compute_pi(N)"
   ]
  }
 ],
 "metadata": {
  "kernelspec": {
   "display_name": "Python 3",
   "language": "python",
   "name": "python3"
  },
  "language_info": {
   "codemirror_mode": {
    "name": "ipython",
    "version": 3
   },
   "file_extension": ".py",
   "mimetype": "text/x-python",
   "name": "python",
   "nbconvert_exporter": "python",
   "pygments_lexer": "ipython3",
   "version": "3.10.11"
  }
 },
 "nbformat": 4,
 "nbformat_minor": 2
}
