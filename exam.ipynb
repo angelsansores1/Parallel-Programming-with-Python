{
 "cells": [
  {
   "cell_type": "markdown",
   "metadata": {},
   "source": [
    "# Parallel Programming with Python\n",
    "Angel David Sansores Cruz\\\n",
    "Universidad Politécnica de Yucatán\\\n",
    "2109139@upy.edu.mx"
   ]
  },
  {
   "cell_type": "markdown",
   "metadata": {},
   "source": [
    "![Instructions](instructions.png)\n"
   ]
  },
  {
   "cell_type": "markdown",
   "metadata": {},
   "source": [
    "1. Write a program in Pytho nwhich solves the program without any parallelization."
   ]
  },
  {
   "cell_type": "code",
   "execution_count": 1,
   "metadata": {},
   "outputs": [
    {
     "name": "stdout",
     "output_type": "stream",
     "text": [
      "Sequential π approximation: 3.141594652413976\n",
      "Time taken: 2.3691 seconds\n",
      "         1000051 function calls in 2.369 seconds\n",
      "\n",
      "   Ordered by: standard name\n",
      "\n",
      "   ncalls  tottime  percall  cumtime  percall filename:lineno(function)\n",
      "        1    0.000    0.000    2.369    2.369 <string>:1(<module>)\n",
      "        1    0.000    0.000    0.000    0.000 iostream.py:202(schedule)\n",
      "        4    0.000    0.000    0.000    0.000 iostream.py:429(_is_master_process)\n",
      "        4    0.000    0.000    0.000    0.000 iostream.py:448(_schedule_flush)\n",
      "        4    0.000    0.000    0.000    0.000 iostream.py:518(write)\n",
      "        1    0.000    0.000    0.000    0.000 iostream.py:90(_event_pipe)\n",
      "        1    0.000    0.000    2.369    2.369 noparallelization.py:10(main)\n",
      "        1    0.000    0.000    2.369    2.369 noparallelization.py:5(compute_pi_sequential)\n",
      "  1000001    1.987    0.000    1.987    0.000 noparallelization.py:7(<genexpr>)\n",
      "        1    0.000    0.000    0.000    0.000 socket.py:543(send)\n",
      "        1    0.000    0.000    0.000    0.000 threading.py:1102(_wait_for_tstate_lock)\n",
      "        1    0.000    0.000    0.000    0.000 threading.py:1169(is_alive)\n",
      "        1    0.000    0.000    0.000    0.000 threading.py:553(is_set)\n",
      "        1    0.000    0.000    2.369    2.369 {built-in method builtins.exec}\n",
      "        4    0.000    0.000    0.000    0.000 {built-in method builtins.isinstance}\n",
      "        4    0.000    0.000    0.000    0.000 {built-in method builtins.len}\n",
      "        2    0.000    0.000    0.000    0.000 {built-in method builtins.print}\n",
      "        1    0.382    0.382    2.369    2.369 {built-in method builtins.sum}\n",
      "        4    0.000    0.000    0.000    0.000 {built-in method nt.getpid}\n",
      "        2    0.000    0.000    0.000    0.000 {built-in method time.time}\n",
      "        4    0.000    0.000    0.000    0.000 {method '__exit__' of '_thread.RLock' objects}\n",
      "        1    0.000    0.000    0.000    0.000 {method 'acquire' of '_thread.lock' objects}\n",
      "        1    0.000    0.000    0.000    0.000 {method 'append' of 'collections.deque' objects}\n",
      "        1    0.000    0.000    0.000    0.000 {method 'disable' of '_lsprof.Profiler' objects}\n",
      "        4    0.000    0.000    0.000    0.000 {method 'write' of '_io.StringIO' objects}\n",
      "\n",
      "\n"
     ]
    }
   ],
   "source": [
    "%run noparallelization.py\n"
   ]
  },
  {
   "cell_type": "markdown",
   "metadata": {},
   "source": [
    "2. Write a program in Python which usesparallel computing via multiprocessingto solve the problem."
   ]
  },
  {
   "cell_type": "code",
   "execution_count": 2,
   "metadata": {},
   "outputs": [
    {
     "name": "stdout",
     "output_type": "stream",
     "text": [
      "N = 10000: Multiprocessing π approximation = 3.141791, Time taken = 1.05 seconds\n",
      "N = 100000: Multiprocessing π approximation = 3.141613, Time taken = 1.11 seconds\n",
      "N = 1000000: Multiprocessing π approximation = 3.141595, Time taken = 4.28 seconds\n"
     ]
    }
   ],
   "source": [
    "# Importa el archivo multi.py como un módulo\n",
    "import multiprocessingpi\n",
    "\n",
    "# Llama la función que deseas ejecutar\n",
    "if __name__ == '__main__':\n",
    "    multiprocessingpi.test_different_Ns()"
   ]
  },
  {
   "cell_type": "markdown",
   "metadata": {},
   "source": [
    "3. Write a program in Python which uses distributed parallel computing via mi4pyto solve the problem."
   ]
  },
  {
   "cell_type": "code",
   "execution_count": 3,
   "metadata": {},
   "outputs": [],
   "source": [
    "# Importa el archivo compute_pi_mpi.py como un módulo\n",
    "import compute_pi_mpi\n",
    "\n",
    "# Llama la función que deseas ejecutar\n",
    "N = 10_500_000\n",
    "compute_pi_mpi.compute_pi(N)\n",
    "\n"
   ]
  }
 ],
 "metadata": {
  "kernelspec": {
   "display_name": "Python 3",
   "language": "python",
   "name": "python3"
  },
  "language_info": {
   "codemirror_mode": {
    "name": "ipython",
    "version": 3
   },
   "file_extension": ".py",
   "mimetype": "text/x-python",
   "name": "python",
   "nbconvert_exporter": "python",
   "pygments_lexer": "ipython3",
   "version": "3.10.11"
  }
 },
 "nbformat": 4,
 "nbformat_minor": 2
}
