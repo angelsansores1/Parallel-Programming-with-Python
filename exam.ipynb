{
 "cells": [
  {
   "cell_type": "markdown",
   "metadata": {},
   "source": [
    "# Parallel Programming with Python\n",
    "Angel David Sansores Cruz\\\n",
    "Universidad Politécnica de Yucatán\\\n",
    "2109139@upy.edu.mx"
   ]
  },
  {
   "cell_type": "markdown",
   "metadata": {},
   "source": [
    "![Instructions](instructions.png)\n"
   ]
  },
  {
   "cell_type": "markdown",
   "metadata": {},
   "source": [
    "1. Write a program in Pytho nwhich solves the program without any parallelization."
   ]
  },
  {
   "cell_type": "code",
   "execution_count": 11,
   "metadata": {},
   "outputs": [
    {
     "name": "stdout",
     "output_type": "stream",
     "text": [
      "Sequential π approximation: 3.141594652413976\n",
      "Time taken: 1.0660 seconds\n"
     ]
    }
   ],
   "source": [
    "# Importa el archivo noparallelization.py como un módulo\n",
    "import noparallelization\n",
    "import time\n",
    "\n",
    "# Llama la función que deseas ejecutar\n",
    "if __name__ == '__main__':\n",
    "    N = 1000000\n",
    "    start_time = time.time()  # Start timing\n",
    "    pi_approx_sequential = noparallelization.compute_pi_sequential(N)\n",
    "    end_time = time.time()  # End timing\n",
    "\n",
    "    print(f\"Sequential π approximation: {pi_approx_sequential}\")\n",
    "    print(f\"Time taken: {end_time - start_time:.4f} seconds\")\n",
    "\n"
   ]
  },
  {
   "cell_type": "markdown",
   "metadata": {},
   "source": [
    "2. Write a program in Python which usesparallel computing via multiprocessingto solve the problem."
   ]
  },
  {
   "cell_type": "code",
   "execution_count": 1,
   "metadata": {},
   "outputs": [
    {
     "name": "stdout",
     "output_type": "stream",
     "text": [
      "N = 10000: Multiprocessing π approximation = 3.141791, Time taken = 0.48 seconds\n",
      "N = 100000: Multiprocessing π approximation = 3.141613, Time taken = 0.51 seconds\n",
      "N = 1000000: Multiprocessing π approximation = 3.141595, Time taken = 2.12 seconds\n"
     ]
    }
   ],
   "source": [
    "# Importa el archivo multi.py como un módulo\n",
    "import multi\n",
    "\n",
    "# Llama la función que deseas ejecutar\n",
    "if __name__ == '__main__':\n",
    "    multi.test_different_Ns()\n",
    "\n",
    "\n"
   ]
  },
  {
   "cell_type": "markdown",
   "metadata": {},
   "source": [
    "3. Write a program in Python which uses distributed parallel computing via mi4pyto solve the problem."
   ]
  },
  {
   "cell_type": "code",
   "execution_count": 13,
   "metadata": {},
   "outputs": [
    {
     "name": "stdout",
     "output_type": "stream",
     "text": [
      "Pi with MPI: 3.141592844031421\n",
      "Time taken (root process): 0.2643 seconds\n"
     ]
    }
   ],
   "source": [
    "# Importa el archivo compute_pi_mpi.py como un módulo\n",
    "import compute_pi_mpi\n",
    "\n",
    "# Llama la función que deseas ejecutar\n",
    "N = 10_500_000\n",
    "compute_pi_mpi.compute_pi(N)\n",
    "\n"
   ]
  }
 ],
 "metadata": {
  "kernelspec": {
   "display_name": "Python 3",
   "language": "python",
   "name": "python3"
  },
  "language_info": {
   "codemirror_mode": {
    "name": "ipython",
    "version": 3
   },
   "file_extension": ".py",
   "mimetype": "text/x-python",
   "name": "python",
   "nbconvert_exporter": "python",
   "pygments_lexer": "ipython3",
   "version": "3.10.11"
  }
 },
 "nbformat": 4,
 "nbformat_minor": 2
}
